{
 "cells": [
  {
   "cell_type": "code",
   "id": "cebf9686",
   "metadata": {
    "ExecuteTime": {
     "end_time": "2024-10-28T10:56:21.829610Z",
     "start_time": "2024-10-28T10:56:21.824535Z"
    }
   },
   "source": [
    "from qiskit.transpiler.preset_passmanagers import generate_preset_pass_manager\n",
    "# from qiskit_ibm_runtime import QiskitRuntimeService\n",
    "from qiskit_ibm_provider import IBMProvider\n",
    "from qiskit_aer import AerSimulator\n",
    "from qiskit_aer.noise import NoiseModel\n",
    "from qiskit.circuit.random import random_circuit\n",
    "from collections import defaultdict\n",
    "import numpy as np"
   ],
   "outputs": [],
   "execution_count": 4
  },
  {
   "cell_type": "code",
   "id": "eb178699",
   "metadata": {
    "ExecuteTime": {
     "end_time": "2024-10-28T10:58:06.692353Z",
     "start_time": "2024-10-28T10:57:56.520794Z"
    }
   },
   "source": [
    "service = IBMProvider(token=\"#### PLACE TOKEN HERE ####\")\n",
    "sim_ideal = AerSimulator()\n",
    "backend = service.get_backend(\"ibm_brisbane\")\n",
    "noise_model = NoiseModel.from_backend(backend)\n",
    "sim_noise = AerSimulator(noise_model=noise_model)"
   ],
   "outputs": [],
   "execution_count": 6
  },
  {
   "cell_type": "code",
   "execution_count": 5,
   "id": "6a777488",
   "metadata": {},
   "outputs": [],
   "source": [
    "def execute_circuit(qc,ideal_run=True,noisy_run=True):\n",
    "    if ideal_run and not noisy_run:\n",
    "        passmanager = generate_preset_pass_manager(optimization_level=0, backend=sim_noise)\n",
    "        circ_tnoise = passmanager.run(qc)\n",
    "        result = sim_ideal.run(circ_tnoise,run_options={\"shots\":1024}).result()\n",
    "        ideal_counts = result.get_counts()\n",
    "        return ideal_counts\n",
    "    \n",
    "    elif not ideal_run and noisy_run:\n",
    "        passmanager = generate_preset_pass_manager(optimization_level=0, backend=sim_noise)\n",
    "        circ_tnoise = passmanager.run(qc)\n",
    "        noise_result = sim_noise.run(circ_tnoise,run_options={\"shots\":1024}).result()\n",
    "        noisy_counts = noise_result.get_counts()\n",
    "        return noisy_counts\n",
    "    \n",
    "    elif ideal_run and noisy_run:\n",
    "        passmanager = generate_preset_pass_manager(optimization_level=0, backend=sim_noise)\n",
    "        circ_tnoise = passmanager.run(qc)\n",
    "        noise_result = sim_noise.run(circ_tnoise,run_options={\"shots\":1024}).result()\n",
    "        result = sim_ideal.run(circ_tnoise,run_options={\"shots\":1024}).result()\n",
    "        noisy_counts = noise_result.get_counts()\n",
    "        ideal_counts = result.get_counts()\n",
    "        return {\"ideal\":ideal_counts,\"noisy\":noisy_counts}\n",
    "    else:\n",
    "        raise(\"Not Implemented\")\n",
    "        \n",
    "\n",
    "def calculate_features(noisy_count,ideal_count=None):\n",
    "    if isinstance(noisy_count,list):\n",
    "        \n",
    "        total_noisy_runs = defaultdict(list)\n",
    "        for d in noisy_count:\n",
    "            for key, value in d.items():\n",
    "                total_noisy_runs[key].append(value/sum(d.values()))\n",
    "        \n",
    "        feature_result = {}\n",
    "        \n",
    "        for each_state in total_noisy_runs:\n",
    "            median_prob = np.round(np.median(total_noisy_runs[each_state]),3)\n",
    "            odds = [v/(1-v) for v in total_noisy_runs[each_state]]\n",
    "            median_odds = np.round(np.median(odds),3)\n",
    "            probf = [1-v for v in total_noisy_runs[each_state]]\n",
    "            median_probf = np.round(np.median(probf),3)\n",
    "            feature_result[each_state] = {\"POS\":median_prob,\"ODR\":median_odds,\"POF\":median_probf}\n",
    "\n",
    "\n",
    "        if ideal_count!=None:\n",
    "            total_ideal_runs = defaultdict(list)\n",
    "            for d in ideal_count:\n",
    "                for key, value in d.items():\n",
    "                    total_ideal_runs[key].append(value/sum(d.values()))\n",
    "\n",
    "            for each_state in feature_result:\n",
    "                if each_state in total_ideal_runs.keys():\n",
    "                    feature_result[each_state][\"ideal_prob\"] = np.round(np.median(total_ideal_runs[each_state]),3)\n",
    "                else:\n",
    "                    feature_result[each_state][\"ideal_prob\"] = -1\n",
    "                \n",
    "        return feature_result\n",
    "\n",
    "    else:\n",
    "        raise(\"Unknow type for counts\")"
   ]
  },
  {
   "cell_type": "code",
   "execution_count": null,
   "id": "4b25d55a",
   "metadata": {},
   "outputs": [],
   "source": []
  }
 ],
 "metadata": {
  "kernelspec": {
   "display_name": "Python 3 (ipykernel)",
   "language": "python",
   "name": "python3"
  },
  "language_info": {
   "codemirror_mode": {
    "name": "ipython",
    "version": 3
   },
   "file_extension": ".py",
   "mimetype": "text/x-python",
   "name": "python",
   "nbconvert_exporter": "python",
   "pygments_lexer": "ipython3",
   "version": "3.9.19"
  }
 },
 "nbformat": 4,
 "nbformat_minor": 5
}
